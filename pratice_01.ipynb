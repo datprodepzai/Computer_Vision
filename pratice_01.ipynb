{
 "cells": [
  {
   "cell_type": "code",
   "execution_count": 5,
   "id": "73ec3810-61b7-4972-b51c-10684ea4acdc",
   "metadata": {},
   "outputs": [],
   "source": [
    "from PIL import Image"
   ]
  },
  {
   "cell_type": "code",
   "execution_count": 9,
   "id": "864d34b3-b6ec-4d52-917a-7c6192730b20",
   "metadata": {},
   "outputs": [],
   "source": [
    "dir = r'C:\\Users\\ADMIN\\jupyter_Project\\Computer_Vision\\img\\01'"
   ]
  },
  {
   "cell_type": "code",
   "execution_count": 11,
   "id": "6e067c4d-96d3-4a99-bae0-4ca057c619e7",
   "metadata": {},
   "outputs": [
    {
     "name": "stdout",
     "output_type": "stream",
     "text": [
      "C:\\Users\\ADMIN\\jupyter_Project\\Computer_Vision\\img\\01\n"
     ]
    }
   ],
   "source": [
    "print(dir)"
   ]
  },
  {
   "cell_type": "code",
   "execution_count": 29,
   "id": "943f302a-a7dd-48c9-9f13-3b335abe713a",
   "metadata": {},
   "outputs": [],
   "source": [
    "img02_path = dir + '/2.png'"
   ]
  },
  {
   "cell_type": "code",
   "execution_count": 33,
   "id": "f62c5a3f-c8aa-415d-b854-69c75e2473e4",
   "metadata": {},
   "outputs": [
    {
     "name": "stdout",
     "output_type": "stream",
     "text": [
      "C:\\Users\\ADMIN\\jupyter_Project\\Computer_Vision\\img\\01/2.png\n"
     ]
    }
   ],
   "source": [
    "print(img02_path)"
   ]
  },
  {
   "cell_type": "code",
   "execution_count": 35,
   "id": "10f49b90-56b3-4c11-ab8d-98c7d5167580",
   "metadata": {},
   "outputs": [],
   "source": [
    "img02 = Image.open(img02_path)"
   ]
  },
  {
   "cell_type": "code",
   "execution_count": 41,
   "id": "eef4ff3c-4d18-4052-95c8-ef28447f27f8",
   "metadata": {},
   "outputs": [
    {
     "name": "stdout",
     "output_type": "stream",
     "text": [
      "Định dạng ảnh là:  PNG\n",
      "kích thước ảnh là:  (225, 225)\n"
     ]
    }
   ],
   "source": [
    "print(\"Định dạng ảnh là: \",img02.format)\n",
    "print(\"kích thước ảnh là: \",img02.size)"
   ]
  },
  {
   "cell_type": "code",
   "execution_count": 51,
   "id": "42264ff8-1ad9-49ec-b260-4a37e58479e1",
   "metadata": {},
   "outputs": [],
   "source": [
    "img02_jpeg_path = dir + '/new_02.png'\n",
    "img02.save(img02_jpeg_path)"
   ]
  },
  {
   "cell_type": "code",
   "execution_count": 54,
   "id": "a10cac05-5ac8-468b-b378-5c6182d5eee9",
   "metadata": {},
   "outputs": [],
   "source": [
    "img02.show()"
   ]
  },
  {
   "cell_type": "code",
   "execution_count": 56,
   "id": "b2965e6e-3545-4a6a-ac7d-ddd934061bcd",
   "metadata": {},
   "outputs": [],
   "source": [
    "img02.close()"
   ]
  },
  {
   "cell_type": "code",
   "execution_count": null,
   "id": "92085524-bfd0-4442-8e1b-6f0c88f53c4a",
   "metadata": {},
   "outputs": [],
   "source": []
  }
 ],
 "metadata": {
  "kernelspec": {
   "display_name": "Python 3 (ipykernel)",
   "language": "python",
   "name": "python3"
  },
  "language_info": {
   "codemirror_mode": {
    "name": "ipython",
    "version": 3
   },
   "file_extension": ".py",
   "mimetype": "text/x-python",
   "name": "python",
   "nbconvert_exporter": "python",
   "pygments_lexer": "ipython3",
   "version": "3.12.4"
  }
 },
 "nbformat": 4,
 "nbformat_minor": 5
}
